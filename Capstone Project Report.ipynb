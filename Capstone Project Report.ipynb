{
 "cells": [
  {
   "cell_type": "markdown",
   "metadata": {
    "collapsed": true
   },
   "source": [
    "# Introduction / Business Problem\n",
    "\n",
    "Fredericton is the Capital City of the only Canadian bilingual Province of New Brunswick and is beautifully located on the banks of the Saint John River. While one of the least populated provincial capital cities with a population base of less than 60 thousand residents, it offers a wide spectrum of venues and is a governement, university and cultural hub.\n",
    "\n",
    "As the city grows and develops, it becomes increasingly important to examine and understand it quantitiatively. The City of Fredericton provides open data for everyone and encourages entrepreneurial use to develop services for the benefit of its ciitzens.\n",
    "\n",
    "The developers, policy makers and city planners have interests in answering the following questions:\n",
    "\n",
    "1. What neighbourhoods have the highest crime?\n",
    "2. Is population density correlated to crime level?\n",
    "3. Using Foursquare data, what venues are most common in different locations within the city?\n",
    "4. Does the Knowledge Park really need a coffee shop?"
   ]
  },
  {
   "cell_type": "markdown",
   "metadata": {},
   "source": [
    "# Data\n",
    "\n",
    "To understand and explore we will need the following City of Fredericton Open Data:\n",
    "\n",
    "Open Data Site: http://data-fredericton.opendata.arcgis.com/\n",
    "Fredericton Neighbourhoods: http://data-fredericton.opendata.arcgis.com/datasets/neighbourhoods--quartiers\n",
    "Fredericton Crime by Neighbourhood: http://data-fredericton.opendata.arcgis.com/datasets/crime-by-neighbourhood-2017--crime-par-quartier-2017\n",
    "Fredericton Census Tract Demographics: http://data-fredericton.opendata.arcgis.com/datasets/census-tract-demographics--donn%C3%A9es-d%C3%A9mographiques-du-secteur-de-recensement\n",
    "Fredericton locations of interest: https://github.com/JasonLUrquhart/Applied-Data-Science-Capstone/blob/master/Fredericton%20Locations.xlsx\n",
    "Foursquare Developers Access to venue data: https://foursquare.com/\n",
    "\n",
    "Using this data will allow exploration and examination to answer the questions. The neighbourhood data will enable us to properly group crime by neighbourhood. The Census data will enable us to then compare the population density to examine if areas of highest crime are also most densely populated. Fredericton locations of interest will then allow us to cluster and quantitatively understand the venues most common to that location."
   ]
  },
  {
   "cell_type": "markdown",
   "metadata": {},
   "source": [
    "# Methodology\n",
    "\n",
    "The methodology I would use showed below:\n",
    "\n",
    "1. Loading each data set\n",
    "2. Examine the crime frequency by neighbourhood\n",
    "3. Study the crime types and then pivot analysis of crime type frequency by neighbourhood\n",
    "4. Understand correlation between crimes and population density\n",
    "5. Perform k-means statisical analysis on venues by locations of interest based on findings from crimes and neighbourhood\n",
    "6. Determine which venues are most common statistically in the region of greatest crime count then in all other locations of interest.\n",
    "7. Determine if an area, such as the Knowledge Park needs a coffee shop."
   ]
  },
  {
   "cell_type": "markdown",
   "metadata": {},
   "source": [
    "Loading the data:\n",
    "\n",
    "After loading the applicable libraries, the referenced geojson neighbourhood data was loaded from the City of Fredericton Open Data site. This dataset uses block polygon shape coordinates which are better for visualization and comparison. The City also uses Ward data but the Neighbourhood location data is more accurate and includes more details. The same type of dataset was then loaded for the population density from the Stats Canada Census tracts.\n",
    "\n",
    "The third dataset, an excel file, \"Crime by Neighbourhood 2017\" downloaded from the City of Fredericton Open Data site is found under the Public Safety domain. This dataset was then uploaded for the analysis. It's interesting to note the details of this dataset are aggregated by neighbourhood. It is not an exhaustive set by not including all crimes (violent offenses) nor specific location data of the crime but is referenced by neighbourhood.\n",
    "\n",
    "This means we can gain an understanding of the crime volume by type by area but not specific enough to understand the distribution properties. Valuable questions such as, \"are these crimes occuring more often in a specific area and at a certain time by a specific demographic of people?\" cannot be answered nor explored due to what is reasonably assumed to be personal and private information with associated legal risks.\n",
    "\n",
    "There is value to the city to explore the detailed crime data using data science to predict frequency, location, timing and conditions to best allocated resources for the benefit of its citizens and it's police force. However, human behaviour is complex requiring thick profile data by individual and the conditions surrounding the event(s). To be sufficient for reliable future prediction it would need to demonstrate validity, currency, reliability and sufficiency."
   ]
  },
  {
   "cell_type": "markdown",
   "metadata": {},
   "source": [
    "Exploring the data\n",
    "\n",
    "One note is the possibility neighbourhoods names could change at different times. The crime dataset did not mention which specific neighbourhood naming dataset it was using but we assumed the neighbourhood data provided aligned with the neighbourhoods used in the crime data. It may be beneficial for the City to note and timestamp neighbourhood naming in the future or simply reference with neighbourhood naming file it used for the crime dataset.\n",
    "\n",
    "An example of data errors: There was an error found in the naming of the neighbourhood \"Platt\". The neighbourhood data stated \"Plat\" while the crime data stated \"Platt\". Given the crime dataset was most simple to manipulate it was modified to \"Plat\". The true name of the neighbourhood is \"Platt\"."
   ]
  },
  {
   "cell_type": "markdown",
   "metadata": {},
   "source": [
    "First Visualization of Crime\n",
    "\n",
    "Once the data was prepared, a choropleth map was created to view the crime count by neighbourhood. As expected the region of greatest crime count was found in the downtown and Platt neighbourhoods.\n",
    "\n",
    "Examining the crime types enables us to learn the most frequent occuring crimes which we then plot as a bar chart to see most frequenty type.\n",
    "\n",
    "Theft from motor vehicles is most prevalent in the same area as the most frequent crimes. It's interesting to note this area is mostly residential and most do not have garages. It would be interesting to further examine if surveillance is a deterant for motor vehicle crimes in the downtown core compared to low surveillance in the Platt neighbourhood."
   ]
  },
  {
   "cell_type": "markdown",
   "metadata": {},
   "source": [
    "Examing 2nd most common crime given it is specific\n",
    "\n",
    "After exploring the pivot table showing Crime_Type by Neighbourhood, we drill into a specific type of crime, theft from vehicles and plot the choropleth map to see which area has the greatest frequency.\n",
    "\n",
    "Again, the Platt neighbourhood appears as the most frequent.\n",
    "\n",
    "Is this due to population density?"
   ]
  },
  {
   "cell_type": "markdown",
   "metadata": {},
   "source": [
    "# Results\n",
    "\n",
    "The analysis enabled us to discover and describe visually and quantitatively:\n",
    "\n",
    "1. Neighbourhoods in Fredericton\n",
    "\n",
    "2. Crime freqency by neighbourhood\n",
    "\n",
    "3. Crime type frequency and statistics. The mean crime count in the City of Fredericton is 22.\n",
    "\n",
    "4. Crime type count by neighbourhood.Theft from motor vehicles is most prevalent in the same area as the most frequent crimes. It's  interesting to note this area is mostly residential and most do not have garages. It would be interesting to further examine if surveillance is a deterant for motor vehicle crimes in the downtown core compared to low surveillance in the Platt neighbourhood.\n",
    "\n",
    "Motor Vehicle crimes less than $5000 analysis by neighbourhood and resulting statistics.\n",
    "The most common crime is Other Theft less than 5k followed by Motor Vehicle Theft less than 5k. There is a mean of 6 motor vehicle thefts less than 5k by neighbourhood in the City.\n",
    "\n",
    "That population density and resulting visual correlation is not strongly correlated to crime frequency. Causation for crime is not able to be determined given lack of open data specificity by individual and environment.\n",
    "\n",
    "Using k-menas, we were able to determine the top 10 most common venues within a 1 km radius of the centroid of the highest crime neighbourhood. The most common venues in the highest crime neighbourhood are coffee shops followed by Pubs and Bars.\n",
    "\n",
    "While, it is not valid, consistent, reliable or sufficient to assume a higher concentration of the combination of coffee shops, bars and clubs predicts the amount of crime occurance in the City of Fredericton, this may be a part of the model needed to be able to in the future.\n",
    "\n",
    "1. We were able to determine the top 10 most common venues by location of interest.\n",
    "\n",
    "2. Statisically, we determined there are no coffee shops within the Knowledge Park clusters."
   ]
  },
  {
   "cell_type": "markdown",
   "metadata": {},
   "source": [
    "# Conclusion\n",
    "\n",
    "Using a combination of datasets from the City of Fredericton Open Data project and Foursquare venue data we were able to analyse, discover and describe neighbhourhoods, crime, population density and statistically describe quantitatively venues by locations of interest.\n",
    "\n",
    "While overall, the City of Fredericton Open Data is interesting, it misses the details required for true valued quantitiatve analysis and predictive analytics which would be most valued by investors and developers to make appropriate investments and to minimize risk.\n",
    "\n",
    "The Open Data project is a great start and empowers the need for a \"Citizens Like Me\" model to be developed where citizens of digital Fredericton are able to share their data as they wish for detailed analysis that enables the creation of valued services."
   ]
  }
 ],
 "metadata": {
  "kernelspec": {
   "display_name": "Python 3.7",
   "language": "python",
   "name": "python3"
  },
  "language_info": {
   "codemirror_mode": {
    "name": "ipython",
    "version": 3
   },
   "file_extension": ".py",
   "mimetype": "text/x-python",
   "name": "python",
   "nbconvert_exporter": "python",
   "pygments_lexer": "ipython3",
   "version": "3.7.9"
  }
 },
 "nbformat": 4,
 "nbformat_minor": 1
}
